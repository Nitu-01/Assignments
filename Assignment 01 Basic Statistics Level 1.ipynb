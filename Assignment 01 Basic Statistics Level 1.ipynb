{
 "cells": [
  {
   "cell_type": "markdown",
   "id": "253c8d6f",
   "metadata": {},
   "source": [
    "# Assignment 1: \n",
    "\n",
    "Que 7. Calculate Mean, Median, Mode, Variance, Standard Deviation, Range &     comment about the values / draw inferences, for the given dataset\n",
    "-\tFor Points,Score,Weigh>\n",
    "Find Mean, Median, Mode, Variance, Standard Deviation, and Range and also Comment about the values/ Draw some inferences.\n",
    "\n",
    "Use Q7.csv file\n"
   ]
  },
  {
   "cell_type": "code",
   "execution_count": 31,
   "id": "e6444d64",
   "metadata": {},
   "outputs": [],
   "source": [
    "import pandas as pd\n",
    "import matplotlib.pyplot as plt\n",
    "import numpy as np\n",
    "import statistics as sta\n",
    "import warnings\n",
    "import seaborn as sns\n",
    "from scipy import stats as st\n",
    "import math as ma"
   ]
  },
  {
   "cell_type": "code",
   "execution_count": 13,
   "id": "0f4d9c65",
   "metadata": {},
   "outputs": [],
   "source": [
    "df= pd.read_csv(r\"Q7.csv\")"
   ]
  },
  {
   "cell_type": "code",
   "execution_count": 35,
   "id": "741d75c0",
   "metadata": {},
   "outputs": [
    {
     "data": {
      "text/html": [
       "<div>\n",
       "<style scoped>\n",
       "    .dataframe tbody tr th:only-of-type {\n",
       "        vertical-align: middle;\n",
       "    }\n",
       "\n",
       "    .dataframe tbody tr th {\n",
       "        vertical-align: top;\n",
       "    }\n",
       "\n",
       "    .dataframe thead th {\n",
       "        text-align: right;\n",
       "    }\n",
       "</style>\n",
       "<table border=\"1\" class=\"dataframe\">\n",
       "  <thead>\n",
       "    <tr style=\"text-align: right;\">\n",
       "      <th></th>\n",
       "      <th>Points</th>\n",
       "      <th>Score</th>\n",
       "      <th>Weigh</th>\n",
       "    </tr>\n",
       "  </thead>\n",
       "  <tbody>\n",
       "    <tr>\n",
       "      <th>count</th>\n",
       "      <td>32.000000</td>\n",
       "      <td>32.000000</td>\n",
       "      <td>32.000000</td>\n",
       "    </tr>\n",
       "    <tr>\n",
       "      <th>mean</th>\n",
       "      <td>3.596563</td>\n",
       "      <td>3.217250</td>\n",
       "      <td>17.848750</td>\n",
       "    </tr>\n",
       "    <tr>\n",
       "      <th>std</th>\n",
       "      <td>0.534679</td>\n",
       "      <td>0.978457</td>\n",
       "      <td>1.786943</td>\n",
       "    </tr>\n",
       "    <tr>\n",
       "      <th>min</th>\n",
       "      <td>2.760000</td>\n",
       "      <td>1.513000</td>\n",
       "      <td>14.500000</td>\n",
       "    </tr>\n",
       "    <tr>\n",
       "      <th>25%</th>\n",
       "      <td>3.080000</td>\n",
       "      <td>2.581250</td>\n",
       "      <td>16.892500</td>\n",
       "    </tr>\n",
       "    <tr>\n",
       "      <th>50%</th>\n",
       "      <td>3.695000</td>\n",
       "      <td>3.325000</td>\n",
       "      <td>17.710000</td>\n",
       "    </tr>\n",
       "    <tr>\n",
       "      <th>75%</th>\n",
       "      <td>3.920000</td>\n",
       "      <td>3.610000</td>\n",
       "      <td>18.900000</td>\n",
       "    </tr>\n",
       "    <tr>\n",
       "      <th>max</th>\n",
       "      <td>4.930000</td>\n",
       "      <td>5.424000</td>\n",
       "      <td>22.900000</td>\n",
       "    </tr>\n",
       "  </tbody>\n",
       "</table>\n",
       "</div>"
      ],
      "text/plain": [
       "          Points      Score      Weigh\n",
       "count  32.000000  32.000000  32.000000\n",
       "mean    3.596563   3.217250  17.848750\n",
       "std     0.534679   0.978457   1.786943\n",
       "min     2.760000   1.513000  14.500000\n",
       "25%     3.080000   2.581250  16.892500\n",
       "50%     3.695000   3.325000  17.710000\n",
       "75%     3.920000   3.610000  18.900000\n",
       "max     4.930000   5.424000  22.900000"
      ]
     },
     "execution_count": 35,
     "metadata": {},
     "output_type": "execute_result"
    }
   ],
   "source": [
    "df.describe()"
   ]
  },
  {
   "cell_type": "raw",
   "id": "e6fdc354",
   "metadata": {},
   "source": [
    ". There no outlier on Points also no skwiness in Points because Mean allmost equals to Median.\n",
    ". There are outlier on Score in upper extreme also Left(-ve) skewness is there in Score because Mean < Median.\n",
    ". There are outlier on Weigh in upper extreme also Right(+ve) skewness is there in Weigh because Mean > Median."
   ]
  },
  {
   "cell_type": "markdown",
   "id": "446cbfcc",
   "metadata": {},
   "source": [
    "Q9) Calculate Skewness, Kurtosis & draw inferences on the following data\n",
    "      Cars speed and distance \n",
    "      \n",
    "Use Q9_a.csv\n"
   ]
  },
  {
   "cell_type": "code",
   "execution_count": 16,
   "id": "f0654747",
   "metadata": {},
   "outputs": [
    {
     "data": {
      "text/plain": [
       "speed   -0.117510\n",
       "dist     0.806895\n",
       "dtype: float64"
      ]
     },
     "execution_count": 16,
     "metadata": {},
     "output_type": "execute_result"
    }
   ],
   "source": [
    "car= pd.read_csv(r\"Q9_a.csv\")\n",
    "car = car[['speed','dist']]\n",
    "car.skew()"
   ]
  },
  {
   "cell_type": "code",
   "execution_count": 17,
   "id": "a17a0931",
   "metadata": {},
   "outputs": [
    {
     "data": {
      "text/plain": [
       "speed   -0.508994\n",
       "dist     0.405053\n",
       "dtype: float64"
      ]
     },
     "execution_count": 17,
     "metadata": {},
     "output_type": "execute_result"
    }
   ],
   "source": [
    "car.kurtosis()"
   ]
  },
  {
   "cell_type": "markdown",
   "id": "98378a53",
   "metadata": {},
   "source": [
    "-There are outlier on distance in lower extreme also Left(-ve) skewness is there in Score because skewness and kurtosis value is in -ve.\n",
    "\n",
    "-There are outlier on distance in upper extreme also Right(+ve) skewness is there in Score because skewness and kurtosis value is in +ve."
   ]
  },
  {
   "cell_type": "markdown",
   "id": "926b6099",
   "metadata": {},
   "source": [
    "Q12)  Below are the scores obtained by a student in tests \n",
    "34,36,36,38,38,39,39,40,40,41,41,41,41,42,42,45,49,56\n",
    "\n",
    ".Find mean, median, variance, standard deviation.\n",
    ".What can we say about the student marks?\n"
   ]
  },
  {
   "cell_type": "code",
   "execution_count": null,
   "id": "6766b39b",
   "metadata": {},
   "outputs": [],
   "source": []
  }
 ],
 "metadata": {
  "kernelspec": {
   "display_name": "Python 3 (ipykernel)",
   "language": "python",
   "name": "python3"
  },
  "language_info": {
   "codemirror_mode": {
    "name": "ipython",
    "version": 3
   },
   "file_extension": ".py",
   "mimetype": "text/x-python",
   "name": "python",
   "nbconvert_exporter": "python",
   "pygments_lexer": "ipython3",
   "version": "3.9.13"
  }
 },
 "nbformat": 4,
 "nbformat_minor": 5
}
